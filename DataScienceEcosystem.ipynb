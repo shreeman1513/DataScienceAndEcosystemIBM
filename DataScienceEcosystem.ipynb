{
 "cells": [
  {
   "cell_type": "code",
   "execution_count": null,
   "id": "7f87b646-77ff-4783-9491-3706efd19419",
   "metadata": {},
   "outputs": [],
   "source": []
  },
  {
   "cell_type": "markdown",
   "id": "85fbd858-e90c-4849-919a-8277989d83c1",
   "metadata": {
    "tags": []
   },
   "source": [
    "# Data Science Tools and Ecosystem"
   ]
  },
  {
   "cell_type": "markdown",
   "id": "643b3099-c3be-459a-a7e2-4814774f4861",
   "metadata": {},
   "source": [
    "In this notebook, Data Science Tools and Ecosystem are summarized."
   ]
  },
  {
   "cell_type": "markdown",
   "id": "13ab8da3-3ab2-45b6-8a63-41aa60d512a6",
   "metadata": {},
   "source": [
    "**Objectives:**\n",
    "- List popular languages for Data Science\n",
    "- Some of the commonly used libraries used by Data Scientists\n",
    "- Data Science Tools"
   ]
  },
  {
   "cell_type": "markdown",
   "id": "5b14a03b-8727-4ad0-b48a-5d9e0f6e5ff4",
   "metadata": {},
   "source": [
    "Some of the popular languages that Data Scientists use are:\n",
    "1. Python\n",
    "2. R\n",
    "3. Swift"
   ]
  },
  {
   "cell_type": "markdown",
   "id": "c8d1c208-40cd-4619-9855-99d523ecf835",
   "metadata": {},
   "source": [
    "Some of the commonly used libraries used by Data Scientists include:\n",
    "1. Pandas\n",
    "2. Numpy\n",
    "3. Matplotlib"
   ]
  },
  {
   "cell_type": "markdown",
   "id": "58af6cee-6d38-4129-87db-8250fa11dcec",
   "metadata": {},
   "source": [
    "| Data Science Tools |\n",
    "| - |\n",
    "| Jupyter Notebook |\n",
    "| - |\n",
    "| Github |\n",
    "| - |\n",
    "| VS Code |"
   ]
  },
  {
   "cell_type": "markdown",
   "id": "f1ac88e8-a7c9-440c-9d95-1a4acd58cb8f",
   "metadata": {},
   "source": [
    "### Below are a few examples of evaluating arithmetic expressions in Python"
   ]
  },
  {
   "cell_type": "markdown",
   "id": "006760cd-65a4-4e97-a2d8-a8964cbfd254",
   "metadata": {},
   "source": [
    "<!--- This a simple arithmetic expression to mutiply then add integers ---!>\n"
   ]
  },
  {
   "cell_type": "code",
   "execution_count": 12,
   "id": "e3c98204-43ba-4b80-b1a0-4b9a88369b0b",
   "metadata": {
    "tags": []
   },
   "outputs": [
    {
     "data": {
      "text/plain": [
       "17"
      ]
     },
     "execution_count": 12,
     "metadata": {},
     "output_type": "execute_result"
    }
   ],
   "source": [
    "(3*4)+5"
   ]
  },
  {
   "cell_type": "markdown",
   "id": "d00808b6-068a-455a-9dff-6fd7ec4e3d89",
   "metadata": {},
   "source": [
    "<!--- This will convert 200 minutes to hours by diving by 60 ---!>"
   ]
  },
  {
   "cell_type": "code",
   "execution_count": 4,
   "id": "df5f7f9e-9416-4cde-bd9c-da54a8ff1b2f",
   "metadata": {
    "tags": []
   },
   "outputs": [
    {
     "name": "stdout",
     "output_type": "stream",
     "text": [
      "3.3333333333333335  Hours\n"
     ]
    }
   ],
   "source": [
    "print(200/60, \" Hours\") "
   ]
  },
  {
   "cell_type": "markdown",
   "id": "6d65947e-d670-44ab-ac89-034a2116a376",
   "metadata": {
    "tags": []
   },
   "source": [
    "##Author\n",
    "Shreeman Gupta"
   ]
  },
  {
   "cell_type": "code",
   "execution_count": null,
   "id": "46c7f6e1-c16c-4c0f-9bc7-7297493bdaa3",
   "metadata": {},
   "outputs": [],
   "source": []
  }
 ],
 "metadata": {
  "kernelspec": {
   "display_name": "Python",
   "language": "python",
   "name": "conda-env-python-py"
  },
  "language_info": {
   "codemirror_mode": {
    "name": "ipython",
    "version": 3
   },
   "file_extension": ".py",
   "mimetype": "text/x-python",
   "name": "python",
   "nbconvert_exporter": "python",
   "pygments_lexer": "ipython3",
   "version": "3.7.12"
  }
 },
 "nbformat": 4,
 "nbformat_minor": 5
}
